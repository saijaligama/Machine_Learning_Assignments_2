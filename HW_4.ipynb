{
 "cells": [
  {
   "cell_type": "code",
   "execution_count": 5,
   "metadata": {},
   "outputs": [],
   "source": [
    "import pandas as pd\n",
    "import numpy as np\n",
    "import matplotlib.pyplot as plt\n",
    "import seaborn as sns"
   ]
  },
  {
   "cell_type": "code",
   "execution_count": 2,
   "metadata": {},
   "outputs": [],
   "source": [
    "train = pd.read_csv('train.csv')"
   ]
  },
  {
   "cell_type": "code",
   "execution_count": 3,
   "metadata": {},
   "outputs": [
    {
     "data": {
      "text/html": [
       "<div>\n",
       "<style scoped>\n",
       "    .dataframe tbody tr th:only-of-type {\n",
       "        vertical-align: middle;\n",
       "    }\n",
       "\n",
       "    .dataframe tbody tr th {\n",
       "        vertical-align: top;\n",
       "    }\n",
       "\n",
       "    .dataframe thead th {\n",
       "        text-align: right;\n",
       "    }\n",
       "</style>\n",
       "<table border=\"1\" class=\"dataframe\">\n",
       "  <thead>\n",
       "    <tr style=\"text-align: right;\">\n",
       "      <th></th>\n",
       "      <th>MOSTYPE</th>\n",
       "      <th>MAANTHUI</th>\n",
       "      <th>MGEMOMV</th>\n",
       "      <th>MGEMLEEF</th>\n",
       "      <th>MOSHOOFD</th>\n",
       "      <th>MGODRK</th>\n",
       "      <th>MGODPR</th>\n",
       "      <th>MGODOV</th>\n",
       "      <th>MGODGE</th>\n",
       "      <th>MRELGE</th>\n",
       "      <th>...</th>\n",
       "      <th>APERSONG</th>\n",
       "      <th>AGEZONG</th>\n",
       "      <th>AWAOREG</th>\n",
       "      <th>ABRAND</th>\n",
       "      <th>AZEILPL</th>\n",
       "      <th>APLEZIER</th>\n",
       "      <th>AFIETS</th>\n",
       "      <th>AINBOED</th>\n",
       "      <th>ABYSTAND</th>\n",
       "      <th>CARAVAN</th>\n",
       "    </tr>\n",
       "  </thead>\n",
       "  <tbody>\n",
       "    <tr>\n",
       "      <th>0</th>\n",
       "      <td>33</td>\n",
       "      <td>1</td>\n",
       "      <td>3</td>\n",
       "      <td>2</td>\n",
       "      <td>8</td>\n",
       "      <td>0</td>\n",
       "      <td>5</td>\n",
       "      <td>1</td>\n",
       "      <td>3</td>\n",
       "      <td>7</td>\n",
       "      <td>...</td>\n",
       "      <td>0</td>\n",
       "      <td>0</td>\n",
       "      <td>0</td>\n",
       "      <td>1</td>\n",
       "      <td>0</td>\n",
       "      <td>0</td>\n",
       "      <td>0</td>\n",
       "      <td>0</td>\n",
       "      <td>0</td>\n",
       "      <td>0</td>\n",
       "    </tr>\n",
       "    <tr>\n",
       "      <th>1</th>\n",
       "      <td>37</td>\n",
       "      <td>1</td>\n",
       "      <td>2</td>\n",
       "      <td>2</td>\n",
       "      <td>8</td>\n",
       "      <td>1</td>\n",
       "      <td>4</td>\n",
       "      <td>1</td>\n",
       "      <td>4</td>\n",
       "      <td>6</td>\n",
       "      <td>...</td>\n",
       "      <td>0</td>\n",
       "      <td>0</td>\n",
       "      <td>0</td>\n",
       "      <td>1</td>\n",
       "      <td>0</td>\n",
       "      <td>0</td>\n",
       "      <td>0</td>\n",
       "      <td>0</td>\n",
       "      <td>0</td>\n",
       "      <td>0</td>\n",
       "    </tr>\n",
       "    <tr>\n",
       "      <th>2</th>\n",
       "      <td>37</td>\n",
       "      <td>1</td>\n",
       "      <td>2</td>\n",
       "      <td>2</td>\n",
       "      <td>8</td>\n",
       "      <td>0</td>\n",
       "      <td>4</td>\n",
       "      <td>2</td>\n",
       "      <td>4</td>\n",
       "      <td>3</td>\n",
       "      <td>...</td>\n",
       "      <td>0</td>\n",
       "      <td>0</td>\n",
       "      <td>0</td>\n",
       "      <td>1</td>\n",
       "      <td>0</td>\n",
       "      <td>0</td>\n",
       "      <td>0</td>\n",
       "      <td>0</td>\n",
       "      <td>0</td>\n",
       "      <td>0</td>\n",
       "    </tr>\n",
       "    <tr>\n",
       "      <th>3</th>\n",
       "      <td>9</td>\n",
       "      <td>1</td>\n",
       "      <td>3</td>\n",
       "      <td>3</td>\n",
       "      <td>3</td>\n",
       "      <td>2</td>\n",
       "      <td>3</td>\n",
       "      <td>2</td>\n",
       "      <td>4</td>\n",
       "      <td>5</td>\n",
       "      <td>...</td>\n",
       "      <td>0</td>\n",
       "      <td>0</td>\n",
       "      <td>0</td>\n",
       "      <td>1</td>\n",
       "      <td>0</td>\n",
       "      <td>0</td>\n",
       "      <td>0</td>\n",
       "      <td>0</td>\n",
       "      <td>0</td>\n",
       "      <td>0</td>\n",
       "    </tr>\n",
       "    <tr>\n",
       "      <th>4</th>\n",
       "      <td>40</td>\n",
       "      <td>1</td>\n",
       "      <td>4</td>\n",
       "      <td>2</td>\n",
       "      <td>10</td>\n",
       "      <td>1</td>\n",
       "      <td>4</td>\n",
       "      <td>1</td>\n",
       "      <td>4</td>\n",
       "      <td>7</td>\n",
       "      <td>...</td>\n",
       "      <td>0</td>\n",
       "      <td>0</td>\n",
       "      <td>0</td>\n",
       "      <td>1</td>\n",
       "      <td>0</td>\n",
       "      <td>0</td>\n",
       "      <td>0</td>\n",
       "      <td>0</td>\n",
       "      <td>0</td>\n",
       "      <td>0</td>\n",
       "    </tr>\n",
       "    <tr>\n",
       "      <th>...</th>\n",
       "      <td>...</td>\n",
       "      <td>...</td>\n",
       "      <td>...</td>\n",
       "      <td>...</td>\n",
       "      <td>...</td>\n",
       "      <td>...</td>\n",
       "      <td>...</td>\n",
       "      <td>...</td>\n",
       "      <td>...</td>\n",
       "      <td>...</td>\n",
       "      <td>...</td>\n",
       "      <td>...</td>\n",
       "      <td>...</td>\n",
       "      <td>...</td>\n",
       "      <td>...</td>\n",
       "      <td>...</td>\n",
       "      <td>...</td>\n",
       "      <td>...</td>\n",
       "      <td>...</td>\n",
       "      <td>...</td>\n",
       "      <td>...</td>\n",
       "    </tr>\n",
       "    <tr>\n",
       "      <th>5817</th>\n",
       "      <td>36</td>\n",
       "      <td>1</td>\n",
       "      <td>1</td>\n",
       "      <td>2</td>\n",
       "      <td>8</td>\n",
       "      <td>0</td>\n",
       "      <td>6</td>\n",
       "      <td>1</td>\n",
       "      <td>2</td>\n",
       "      <td>1</td>\n",
       "      <td>...</td>\n",
       "      <td>0</td>\n",
       "      <td>0</td>\n",
       "      <td>0</td>\n",
       "      <td>1</td>\n",
       "      <td>0</td>\n",
       "      <td>0</td>\n",
       "      <td>0</td>\n",
       "      <td>0</td>\n",
       "      <td>0</td>\n",
       "      <td>0</td>\n",
       "    </tr>\n",
       "    <tr>\n",
       "      <th>5818</th>\n",
       "      <td>35</td>\n",
       "      <td>1</td>\n",
       "      <td>4</td>\n",
       "      <td>4</td>\n",
       "      <td>8</td>\n",
       "      <td>1</td>\n",
       "      <td>4</td>\n",
       "      <td>1</td>\n",
       "      <td>4</td>\n",
       "      <td>6</td>\n",
       "      <td>...</td>\n",
       "      <td>0</td>\n",
       "      <td>0</td>\n",
       "      <td>0</td>\n",
       "      <td>1</td>\n",
       "      <td>0</td>\n",
       "      <td>0</td>\n",
       "      <td>0</td>\n",
       "      <td>0</td>\n",
       "      <td>0</td>\n",
       "      <td>0</td>\n",
       "    </tr>\n",
       "    <tr>\n",
       "      <th>5819</th>\n",
       "      <td>33</td>\n",
       "      <td>1</td>\n",
       "      <td>3</td>\n",
       "      <td>4</td>\n",
       "      <td>8</td>\n",
       "      <td>0</td>\n",
       "      <td>6</td>\n",
       "      <td>0</td>\n",
       "      <td>3</td>\n",
       "      <td>5</td>\n",
       "      <td>...</td>\n",
       "      <td>0</td>\n",
       "      <td>0</td>\n",
       "      <td>0</td>\n",
       "      <td>1</td>\n",
       "      <td>0</td>\n",
       "      <td>0</td>\n",
       "      <td>0</td>\n",
       "      <td>0</td>\n",
       "      <td>0</td>\n",
       "      <td>1</td>\n",
       "    </tr>\n",
       "    <tr>\n",
       "      <th>5820</th>\n",
       "      <td>34</td>\n",
       "      <td>1</td>\n",
       "      <td>3</td>\n",
       "      <td>2</td>\n",
       "      <td>8</td>\n",
       "      <td>0</td>\n",
       "      <td>7</td>\n",
       "      <td>0</td>\n",
       "      <td>2</td>\n",
       "      <td>7</td>\n",
       "      <td>...</td>\n",
       "      <td>0</td>\n",
       "      <td>0</td>\n",
       "      <td>0</td>\n",
       "      <td>0</td>\n",
       "      <td>0</td>\n",
       "      <td>0</td>\n",
       "      <td>0</td>\n",
       "      <td>0</td>\n",
       "      <td>0</td>\n",
       "      <td>0</td>\n",
       "    </tr>\n",
       "    <tr>\n",
       "      <th>5821</th>\n",
       "      <td>33</td>\n",
       "      <td>1</td>\n",
       "      <td>3</td>\n",
       "      <td>3</td>\n",
       "      <td>8</td>\n",
       "      <td>0</td>\n",
       "      <td>6</td>\n",
       "      <td>1</td>\n",
       "      <td>2</td>\n",
       "      <td>7</td>\n",
       "      <td>...</td>\n",
       "      <td>0</td>\n",
       "      <td>0</td>\n",
       "      <td>0</td>\n",
       "      <td>0</td>\n",
       "      <td>0</td>\n",
       "      <td>0</td>\n",
       "      <td>0</td>\n",
       "      <td>0</td>\n",
       "      <td>0</td>\n",
       "      <td>0</td>\n",
       "    </tr>\n",
       "  </tbody>\n",
       "</table>\n",
       "<p>5822 rows × 86 columns</p>\n",
       "</div>"
      ],
      "text/plain": [
       "      MOSTYPE  MAANTHUI  MGEMOMV  MGEMLEEF  MOSHOOFD  MGODRK  MGODPR  MGODOV  \\\n",
       "0          33         1        3         2         8       0       5       1   \n",
       "1          37         1        2         2         8       1       4       1   \n",
       "2          37         1        2         2         8       0       4       2   \n",
       "3           9         1        3         3         3       2       3       2   \n",
       "4          40         1        4         2        10       1       4       1   \n",
       "...       ...       ...      ...       ...       ...     ...     ...     ...   \n",
       "5817       36         1        1         2         8       0       6       1   \n",
       "5818       35         1        4         4         8       1       4       1   \n",
       "5819       33         1        3         4         8       0       6       0   \n",
       "5820       34         1        3         2         8       0       7       0   \n",
       "5821       33         1        3         3         8       0       6       1   \n",
       "\n",
       "      MGODGE  MRELGE  ...  APERSONG  AGEZONG  AWAOREG  ABRAND  AZEILPL  \\\n",
       "0          3       7  ...         0        0        0       1        0   \n",
       "1          4       6  ...         0        0        0       1        0   \n",
       "2          4       3  ...         0        0        0       1        0   \n",
       "3          4       5  ...         0        0        0       1        0   \n",
       "4          4       7  ...         0        0        0       1        0   \n",
       "...      ...     ...  ...       ...      ...      ...     ...      ...   \n",
       "5817       2       1  ...         0        0        0       1        0   \n",
       "5818       4       6  ...         0        0        0       1        0   \n",
       "5819       3       5  ...         0        0        0       1        0   \n",
       "5820       2       7  ...         0        0        0       0        0   \n",
       "5821       2       7  ...         0        0        0       0        0   \n",
       "\n",
       "      APLEZIER  AFIETS  AINBOED  ABYSTAND  CARAVAN  \n",
       "0            0       0        0         0        0  \n",
       "1            0       0        0         0        0  \n",
       "2            0       0        0         0        0  \n",
       "3            0       0        0         0        0  \n",
       "4            0       0        0         0        0  \n",
       "...        ...     ...      ...       ...      ...  \n",
       "5817         0       0        0         0        0  \n",
       "5818         0       0        0         0        0  \n",
       "5819         0       0        0         0        1  \n",
       "5820         0       0        0         0        0  \n",
       "5821         0       0        0         0        0  \n",
       "\n",
       "[5822 rows x 86 columns]"
      ]
     },
     "execution_count": 3,
     "metadata": {},
     "output_type": "execute_result"
    }
   ],
   "source": [
    "train"
   ]
  },
  {
   "cell_type": "markdown",
   "metadata": {},
   "source": [
    "# 1"
   ]
  },
  {
   "cell_type": "code",
   "execution_count": 140,
   "metadata": {},
   "outputs": [
    {
     "data": {
      "text/plain": [
       "<AxesSubplot:>"
      ]
     },
     "execution_count": 140,
     "metadata": {},
     "output_type": "execute_result"
    },
    {
     "data": {
      "image/png": "[encoded data removed]",
      "text/plain": [
       "<Figure size 792x648 with 2 Axes>"
      ]
     },
     "metadata": {},
     "output_type": "display_data"
    }
   ],
   "source": [
    "sns.set_theme(style=\"white\")\n",
    "\n",
    "# Generate a large random dataset\n",
    "#rs = np.random.RandomState(33)\n",
    "# d = pd.DataFrame(data=rs.normal(size=(100, 26)),\n",
    "#                  columns=list(ascii_letters[26:]))\n",
    "\n",
    "# Compute the correlation matrix\n",
    "corr = train.corr()\n",
    "\n",
    "# Generate a mask for the upper triangle\n",
    "mask = np.triu(np.ones_like(corr, dtype=bool))\n",
    "\n",
    "# Set up the matplotlib figure\n",
    "f, ax = plt.subplots(figsize=(11, 9))\n",
    "\n",
    "# Generate a custom diverging colormap\n",
    "cmap = sns.diverging_palette(230, 20, as_cmap=True)\n",
    "\n",
    "# Draw the heatmap with the mask and correct aspect ratio\n",
    "sns.heatmap(corr, mask=mask, cmap=cmap, vmax=.3, center=0,\n",
    "            square=True, linewidths=.5, cbar_kws={\"shrink\": .5})"
   ]
  },
  {
   "cell_type": "code",
   "execution_count": 10,
   "metadata": {},
   "outputs": [],
   "source": [
    "from scipy.stats import pearsonr\n",
    "corr_dict = {}\n",
    "for i in train.drop('CARAVAN',axis=1):\n",
    "    corr_dict[i],_= pearsonr(train[i],train['CARAVAN'])"
   ]
  },
  {
   "cell_type": "code",
   "execution_count": 15,
   "metadata": {},
   "outputs": [
    {
     "data": {
      "text/plain": [
       "[('PPERSAUT', 0.1509097148244543),\n",
       " ('APERSAUT', 0.14421046445219193),\n",
       " ('APLEZIER', 0.10569950446603942),\n",
       " ('PWAPART', 0.0964626876771548),\n",
       " ('MKOOPKLA', 0.09593826270941126),\n",
       " ('PBRAND', 0.09444598965501168),\n",
       " ('PPLEZIER', 0.09136115886291009),\n",
       " ('MINKGEM', 0.0901853819579985),\n",
       " ('AWAPART', 0.08938747267886943),\n",
       " ('MOPLHOOG', 0.08463533763036604)]"
      ]
     },
     "execution_count": 15,
     "metadata": {},
     "output_type": "execute_result"
    }
   ],
   "source": [
    "sorted(corr_dict.items(), key=lambda x: x[1], reverse=True)[:10]"
   ]
  },
  {
   "cell_type": "markdown",
   "metadata": {},
   "source": [
    "# 2"
   ]
  },
  {
   "cell_type": "code",
   "execution_count": 20,
   "metadata": {},
   "outputs": [],
   "source": [
    "from sklearn.model_selection import train_test_split\n",
    "X_train, X_val, y_train, y_val = train_test_split(train.drop('CARAVAN',axis=1),train['CARAVAN'], test_size=0.2, random_state=0)\n"
   ]
  },
  {
   "cell_type": "code",
   "execution_count": 27,
   "metadata": {},
   "outputs": [],
   "source": [
    "from sklearn.linear_model import LogisticRegression\n",
    "from sklearn.metrics import accuracy_score\n",
    "c_values = [i for i in np.arange(0.1,1.1,0.1)]\n",
    "f1_dict = {}\n",
    "for i in c_values:\n",
    "    log_reg = LogisticRegression(penalty='l1', solver='liblinear',C=i).fit(X_train,y_train)\n",
    "    pred = log_reg.predict(X_val)\n",
    "    f1_dict[i] = accuracy_score(y_val,pred)"
   ]
  },
  {
   "cell_type": "code",
   "execution_count": 28,
   "metadata": {},
   "outputs": [
    {
     "data": {
      "text/plain": [
       "{0.1: 0.9330472103004291,\n",
       " 0.2: 0.934763948497854,\n",
       " 0.30000000000000004: 0.934763948497854,\n",
       " 0.4: 0.9339055793991416,\n",
       " 0.5: 0.9339055793991416,\n",
       " 0.6: 0.9330472103004291,\n",
       " 0.7000000000000001: 0.9330472103004291,\n",
       " 0.8: 0.9330472103004291,\n",
       " 0.9: 0.9330472103004291,\n",
       " 1.0: 0.9330472103004291}"
      ]
     },
     "execution_count": 28,
     "metadata": {},
     "output_type": "execute_result"
    }
   ],
   "source": [
    "f1_dict"
   ]
  },
  {
   "cell_type": "code",
   "execution_count": 49,
   "metadata": {},
   "outputs": [],
   "source": [
    "test = pd.read_csv('test.csv')\n",
    "X_test,y_test = test.drop('CARAVAN',axis=1),test['CARAVAN']"
   ]
  },
  {
   "cell_type": "code",
   "execution_count": 50,
   "metadata": {},
   "outputs": [
    {
     "data": {
      "text/plain": [
       "0.94075"
      ]
     },
     "execution_count": 50,
     "metadata": {},
     "output_type": "execute_result"
    }
   ],
   "source": [
    "log_reg = LogisticRegression(penalty='l1', solver='liblinear',C=0.2).fit(train.drop('CARAVAN',axis=1),train['CARAVAN'])\n",
    "pred = log_reg.predict(X_test)\n",
    "accuracy_score(y_test,pred)"
   ]
  },
  {
   "cell_type": "code",
   "execution_count": 36,
   "metadata": {},
   "outputs": [],
   "source": [
    "asd = {name:coef for name,coef in zip(train.drop('CARAVAN',axis=1).columns,log_reg.coef_[0])}"
   ]
  },
  {
   "cell_type": "code",
   "execution_count": 52,
   "metadata": {},
   "outputs": [
    {
     "data": {
      "text/plain": [
       "{'MOSTYPE': 0.0564802088105749,\n",
       " 'MAANTHUI': 0.00021609308387074506,\n",
       " 'MGEMOMV': 0.00034664932204265435,\n",
       " 'MGEMLEEF': 0.016661692010763063,\n",
       " 'MOSHOOFD': 0.019175707316190956,\n",
       " 'MGODRK': 0.0008319583729023698,\n",
       " 'MGODPR': 0.01758234547496643,\n",
       " 'MGODOV': 0.019820205122190196,\n",
       " 'MGODGE': 0.01781956511775019,\n",
       " 'MRELGE': 0.010710923040088248,\n",
       " 'MRELSA': 0.000554638915268246,\n",
       " 'MRELOV': 0.009976774047953052,\n",
       " 'MFALLEEN': 0.007331745866428238,\n",
       " 'MFGEKIND': 0.0216581990009577,\n",
       " 'MFWEKIND': 0.0095198331558899,\n",
       " 'MOPLHOOG': 0.01048949475180869,\n",
       " 'MOPLMIDD': 0.026821404506852126,\n",
       " 'MOPLLAAG': 0.022120914595132737,\n",
       " 'MBERHOOG': 0.014386632674514802,\n",
       " 'MBERZELF': 0.0185630145183476,\n",
       " 'MBERBOER': 0.005231253405370963,\n",
       " 'MBERMIDD': 0.00314250059612731,\n",
       " 'MBERARBG': 0.018081270111550553,\n",
       " 'MBERARBO': 0.02386040817461936,\n",
       " 'MSKA': 0.016987327060985408,\n",
       " 'MSKB1': 0.01494232541330026,\n",
       " 'MSKB2': 0.013742317581760616,\n",
       " 'MSKC': 0.028865049065997767,\n",
       " 'MSKD': 0.007450070437135556,\n",
       " 'MHHUUR': 0.009183226368566406,\n",
       " 'MHKOOP': 0.009541109911459721,\n",
       " 'MAUT1': 0.012843729900287766,\n",
       " 'MAUT2': 0.015289556879431423,\n",
       " 'MAUT0': 0.01286074260871103,\n",
       " 'MZFONDS': 0.009620645330984997,\n",
       " 'MZPART': 0.011612122877747664,\n",
       " 'MINKM30': 0.014672779097156976,\n",
       " 'MINK3045': 0.016094782619770688,\n",
       " 'MINK4575': 0.024978043900615886,\n",
       " 'MINK7512': 0.008939914578040891,\n",
       " 'MINK123M': 0.00921448243201241,\n",
       " 'MINKGEM': 0.017626254598569955,\n",
       " 'MKOOPKLA': 0.020532986542200368,\n",
       " 'PWAPART': 0.03219124567559388,\n",
       " 'PWABEDR': 0.0,\n",
       " 'PWALAND': 0.0,\n",
       " 'PPERSAUT': 0.04165993106830898,\n",
       " 'PBESAUT': 0.0017534278103561768,\n",
       " 'PMOTSCO': 0.01644541452929686,\n",
       " 'PVRAAUT': 0.0,\n",
       " 'PAANHANG': 0.003234324756819811,\n",
       " 'PTRACTOR': 0.0,\n",
       " 'PWERKT': 0.0,\n",
       " 'PBROM': 0.01593338502779611,\n",
       " 'PLEVEN': 0.01618424411493005,\n",
       " 'PPERSONG': 0.0,\n",
       " 'PGEZONG': 0.009318991575298807,\n",
       " 'PWAOREG': 0.006636813904608838,\n",
       " 'PBRAND': 0.0617077563638716,\n",
       " 'PZEILPL': 0.0,\n",
       " 'PPLEZIER': 0.005688279843022521,\n",
       " 'PFIETS': 0.0018481022063857866,\n",
       " 'PINBOED': 0.0037406906577539816,\n",
       " 'PBYSTAND': 0.006267790725119785,\n",
       " 'AWAPART': 0.035890648653231626,\n",
       " 'AWABEDR': 0.0031490559199043346,\n",
       " 'AWALAND': 0.0,\n",
       " 'APERSAUT': 0.037523996084395946,\n",
       " 'ABESAUT': 0.0,\n",
       " 'AMOTSCO': 0.007799609745959718,\n",
       " 'AVRAAUT': 0.0,\n",
       " 'AAANHANG': 0.0023313079142426203,\n",
       " 'ATRACTOR': 0.002476066586018958,\n",
       " 'AWERKT': 0.0,\n",
       " 'ABROM': 0.005893038474725121,\n",
       " 'ALEVEN': 0.014381372896082743,\n",
       " 'APERSONG': 0.0,\n",
       " 'AGEZONG': 0.0,\n",
       " 'AWAOREG': 0.0,\n",
       " 'ABRAND': 0.016185371981918835,\n",
       " 'AZEILPL': 0.0,\n",
       " 'APLEZIER': 0.011053275874851703,\n",
       " 'AFIETS': 0.006341218014885779,\n",
       " 'AINBOED': 0.0,\n",
       " 'ABYSTAND': 0.0079837403977226}"
      ]
     },
     "execution_count": 52,
     "metadata": {},
     "output_type": "execute_result"
    }
   ],
   "source": [
    "asd"
   ]
  },
  {
   "cell_type": "markdown",
   "metadata": {},
   "source": [
    "### As we can see from above most of the variables we thought were important from our initial analysis are not the same in the Logistic Regression Model. We achieved an accuracy of 94% on the test data\n",
    "### The top 5 features for Logistic Regression are 'MOSTYPE','MAANTHUI','MGEMOMV','MGEMLEEF','MOSHOOFD'"
   ]
  },
  {
   "cell_type": "markdown",
   "metadata": {},
   "source": [
    "# 3"
   ]
  },
  {
   "cell_type": "code",
   "execution_count": 62,
   "metadata": {},
   "outputs": [
    {
     "data": {
      "text/plain": [
       "0.92525"
      ]
     },
     "execution_count": 62,
     "metadata": {},
     "output_type": "execute_result"
    }
   ],
   "source": [
    "from sklearn.preprocessing import PolynomialFeatures\n",
    "poly = PolynomialFeatures(degree=2)\n",
    "#trainpoly = poly.fit_transform(train.drop('CARAVAN',axis=1))\n",
    "total = pd.concat([train,test],axis=0)\n",
    "totalpoly = poly.fit_transform(total.drop('CARAVAN',axis=1))\n",
    "\n",
    "train_poly = totalpoly[:5822]\n",
    "test_poly = totalpoly[5822:]\n",
    "#X_trainpoly, X_valpoly, y_trainpoly, y_valpoly = train_test_split(trainpoly,train['CARAVAN'], test_size=0.2, random_state=0)\n",
    "\n",
    "log_reg = LogisticRegression(penalty='l1', solver='liblinear',C=0.2).fit(train_poly,total['CARAVAN'].iloc[:5822])\n",
    "pred = log_reg.predict(test_poly)\n",
    "accuracy_score(test['CARAVAN'],pred)"
   ]
  },
  {
   "cell_type": "code",
   "execution_count": 60,
   "metadata": {},
   "outputs": [
    {
     "data": {
      "text/plain": [
       "5823"
      ]
     },
     "execution_count": 60,
     "metadata": {},
     "output_type": "execute_result"
    }
   ],
   "source": [
    "len(train_poly)"
   ]
  },
  {
   "cell_type": "code",
   "execution_count": 61,
   "metadata": {},
   "outputs": [
    {
     "data": {
      "text/plain": [
       "3999"
      ]
     },
     "execution_count": 61,
     "metadata": {},
     "output_type": "execute_result"
    }
   ],
   "source": [
    "9822-5823"
   ]
  },
  {
   "cell_type": "markdown",
   "metadata": {},
   "source": [
    "### The accuracy without polynomial features was 94% but after introducing polynomial features the accuracy dropped to 92.5%. For this cas the original model performed better than the polynomial model."
   ]
  },
  {
   "cell_type": "markdown",
   "metadata": {},
   "source": [
    "# 4"
   ]
  },
  {
   "cell_type": "code",
   "execution_count": 43,
   "metadata": {},
   "outputs": [
    {
     "data": {
      "text/plain": [
       "0.8875536480686695"
      ]
     },
     "execution_count": 43,
     "metadata": {},
     "output_type": "execute_result"
    }
   ],
   "source": [
    "from sklearn.tree import DecisionTreeClassifier\n",
    "dt = DecisionTreeClassifier().fit(train.drop('CARAVAN',axis=1),train['CARAVAN'])\n",
    "pred = dt.predict(test.drop('CARAVAN'),axis=1)\n",
    "accuracy_score(test[['CARAVAN']],pred)"
   ]
  },
  {
   "cell_type": "code",
   "execution_count": 46,
   "metadata": {},
   "outputs": [],
   "source": [
    "asd = {name:coef for name,coef in zip(train.drop('CARAVAN',axis=1).columns,dt.feature_importances_)}"
   ]
  },
  {
   "cell_type": "code",
   "execution_count": 47,
   "metadata": {},
   "outputs": [
    {
     "data": {
      "text/plain": [
       "{'MOSTYPE': 0.0564802088105749,\n",
       " 'MAANTHUI': 0.00021609308387074506,\n",
       " 'MGEMOMV': 0.00034664932204265435,\n",
       " 'MGEMLEEF': 0.016661692010763063,\n",
       " 'MOSHOOFD': 0.019175707316190956,\n",
       " 'MGODRK': 0.0008319583729023698,\n",
       " 'MGODPR': 0.01758234547496643,\n",
       " 'MGODOV': 0.019820205122190196,\n",
       " 'MGODGE': 0.01781956511775019,\n",
       " 'MRELGE': 0.010710923040088248,\n",
       " 'MRELSA': 0.000554638915268246,\n",
       " 'MRELOV': 0.009976774047953052,\n",
       " 'MFALLEEN': 0.007331745866428238,\n",
       " 'MFGEKIND': 0.0216581990009577,\n",
       " 'MFWEKIND': 0.0095198331558899,\n",
       " 'MOPLHOOG': 0.01048949475180869,\n",
       " 'MOPLMIDD': 0.026821404506852126,\n",
       " 'MOPLLAAG': 0.022120914595132737,\n",
       " 'MBERHOOG': 0.014386632674514802,\n",
       " 'MBERZELF': 0.0185630145183476,\n",
       " 'MBERBOER': 0.005231253405370963,\n",
       " 'MBERMIDD': 0.00314250059612731,\n",
       " 'MBERARBG': 0.018081270111550553,\n",
       " 'MBERARBO': 0.02386040817461936,\n",
       " 'MSKA': 0.016987327060985408,\n",
       " 'MSKB1': 0.01494232541330026,\n",
       " 'MSKB2': 0.013742317581760616,\n",
       " 'MSKC': 0.028865049065997767,\n",
       " 'MSKD': 0.007450070437135556,\n",
       " 'MHHUUR': 0.009183226368566406,\n",
       " 'MHKOOP': 0.009541109911459721,\n",
       " 'MAUT1': 0.012843729900287766,\n",
       " 'MAUT2': 0.015289556879431423,\n",
       " 'MAUT0': 0.01286074260871103,\n",
       " 'MZFONDS': 0.009620645330984997,\n",
       " 'MZPART': 0.011612122877747664,\n",
       " 'MINKM30': 0.014672779097156976,\n",
       " 'MINK3045': 0.016094782619770688,\n",
       " 'MINK4575': 0.024978043900615886,\n",
       " 'MINK7512': 0.008939914578040891,\n",
       " 'MINK123M': 0.00921448243201241,\n",
       " 'MINKGEM': 0.017626254598569955,\n",
       " 'MKOOPKLA': 0.020532986542200368,\n",
       " 'PWAPART': 0.03219124567559388,\n",
       " 'PWABEDR': 0.0,\n",
       " 'PWALAND': 0.0,\n",
       " 'PPERSAUT': 0.04165993106830898,\n",
       " 'PBESAUT': 0.0017534278103561768,\n",
       " 'PMOTSCO': 0.01644541452929686,\n",
       " 'PVRAAUT': 0.0,\n",
       " 'PAANHANG': 0.003234324756819811,\n",
       " 'PTRACTOR': 0.0,\n",
       " 'PWERKT': 0.0,\n",
       " 'PBROM': 0.01593338502779611,\n",
       " 'PLEVEN': 0.01618424411493005,\n",
       " 'PPERSONG': 0.0,\n",
       " 'PGEZONG': 0.009318991575298807,\n",
       " 'PWAOREG': 0.006636813904608838,\n",
       " 'PBRAND': 0.0617077563638716,\n",
       " 'PZEILPL': 0.0,\n",
       " 'PPLEZIER': 0.005688279843022521,\n",
       " 'PFIETS': 0.0018481022063857866,\n",
       " 'PINBOED': 0.0037406906577539816,\n",
       " 'PBYSTAND': 0.006267790725119785,\n",
       " 'AWAPART': 0.035890648653231626,\n",
       " 'AWABEDR': 0.0031490559199043346,\n",
       " 'AWALAND': 0.0,\n",
       " 'APERSAUT': 0.037523996084395946,\n",
       " 'ABESAUT': 0.0,\n",
       " 'AMOTSCO': 0.007799609745959718,\n",
       " 'AVRAAUT': 0.0,\n",
       " 'AAANHANG': 0.0023313079142426203,\n",
       " 'ATRACTOR': 0.002476066586018958,\n",
       " 'AWERKT': 0.0,\n",
       " 'ABROM': 0.005893038474725121,\n",
       " 'ALEVEN': 0.014381372896082743,\n",
       " 'APERSONG': 0.0,\n",
       " 'AGEZONG': 0.0,\n",
       " 'AWAOREG': 0.0,\n",
       " 'ABRAND': 0.016185371981918835,\n",
       " 'AZEILPL': 0.0,\n",
       " 'APLEZIER': 0.011053275874851703,\n",
       " 'AFIETS': 0.006341218014885779,\n",
       " 'AINBOED': 0.0,\n",
       " 'ABYSTAND': 0.0079837403977226}"
      ]
     },
     "execution_count": 47,
     "metadata": {},
     "output_type": "execute_result"
    }
   ],
   "source": [
    "asd"
   ]
  },
  {
   "cell_type": "markdown",
   "metadata": {},
   "source": [
    "### Here we can see that the features which were important in Q1 are not the same, but the features we acquired in Logistic regression are similar to that of with Decision tree. As the top 5 features for decision tree are 'MOSTYPE','MAANTHUI','MGEMOMV','MGEMLEEF','MOSHOOFD'"
   ]
  },
  {
   "cell_type": "markdown",
   "metadata": {},
   "source": [
    "### The accuracy did not increase for the decision tree classifier"
   ]
  },
  {
   "cell_type": "markdown",
   "metadata": {},
   "source": [
    "### The best model was the original model with 93% accuracy whereas logReg with polynomial features scores 90% and the least performing model was DecisionTree with an accuracy of only 88%"
   ]
  },
  {
   "cell_type": "code",
   "execution_count": null,
   "metadata": {},
   "outputs": [],
   "source": []
  },
  {
   "cell_type": "code",
   "execution_count": 122,
   "metadata": {},
   "outputs": [],
   "source": []
  }
 ],
 "metadata": {
  "kernelspec": {
   "display_name": "Python 3",
   "language": "python",
   "name": "python3"
  },
  "language_info": {
   "codemirror_mode": {
    "name": "ipython",
    "version": 3
   },
   "file_extension": ".py",
   "mimetype": "text/x-python",
   "name": "python",
   "nbconvert_exporter": "python",
   "pygments_lexer": "ipython3",
   "version": "3.8.5"
  }
 },
 "nbformat": 4,
 "nbformat_minor": 4
}
